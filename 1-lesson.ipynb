{
 "cells": [
  {
   "cell_type": "markdown",
   "id": "a3c6d534",
   "metadata": {},
   "source": [
    " <img src=\"Numpyjpeg1.jpg\" align=\"center\" width=\"300\" />"
   ]
  },
  {
   "cell_type": "markdown",
   "id": "dd514e2d",
   "metadata": {},
   "source": [
    "<hr>\n",
    "<hr style=\"height:2px;border-width:0;\">"
   ]
  },
  {
   "cell_type": "markdown",
   "id": "f2024125",
   "metadata": {},
   "source": [
    "### `Welcome to Numpy`"
   ]
  },
  {
   "cell_type": "markdown",
   "id": "8e6230b3",
   "metadata": {},
   "source": [
    "NumPy (Numerical Python) is an open source Python library that’s used in almost every field of science and engineering. It’s the universal standard for working with numerical data in Python, and it’s at the core of the scientific Python and PyData ecosystems. NumPy users include everyone from beginning coders to experienced researchers doing state-of-the-art scientific and industrial research and development. The NumPy API is used extensively in Pandas, SciPy, Matplotlib, scikit-learn, scikit-image and most other data science and scientific Python packages.\n",
    "\n",
    "The NumPy library contains multidimensional array and matrix data structures (you’ll find more information about this in later sections). It provides ndarray, a homogeneous n-dimensional array object, with methods to efficiently operate on it. NumPy can be used to perform a wide variety of mathematical operations on arrays. It adds powerful data structures to Python that guarantee efficient calculations with arrays and matrices and it supplies an enormous library of high-level mathematical functions that operate on these arrays and matrices."
   ]
  },
  {
   "cell_type": "markdown",
   "id": "88ba112a",
   "metadata": {},
   "source": [
    "### <em> Uz: Numpyga xush kelibsiz...</em>\n",
    "<em>NumPy (Numerical Python) - bu fan va muhandislikning deyarli barcha sohalarida qo'llaniladigan ochiq manba Python kutubxonasi. Bu Python-da raqamli ma'lumotlar bilan ishlash uchun universal standart bo'lib, Python va PyData ilmiy ekotizimlarining asosini tashkil etadi. NumPy foydalanuvchilari boshlang'ich kodlovchilardan tortib, eng zamonaviy ilmiy va sanoat tadqiqotlari va ishlanmalari bilan shug'ullanuvchi tajribali tadqiqotchilargacha bo'lgan barchani o'z ichiga oladi. NumPy API Pandas, SciPy, Matplotlib, scikit-learn, scikit-image va boshqa ko'plab ma'lumotlar fanlari va ilmiy Python paketlarida keng qo'llaniladi.\n",
    "\n",
    "NumPy kutubxonasi ko'p o'lchovli massiv va matritsa ma'lumotlar tuzilmalarini o'z ichiga oladi (bu haqda keyingi bo'limlarda ko'proq ma'lumot topasiz). U bir hil n o'lchovli massiv ob'ekti bo'lgan ndarrayni samarali ishlash usullari bilan ta'minlaydi. NumPy dan massivlarda turli xil matematik amallarni bajarish uchun foydalanish mumkin. U Python-ga massivlar va matritsalar bilan samarali hisob-kitoblarni kafolatlaydigan kuchli ma'lumotlar tuzilmalarini qo'shadi va bu massivlar va matritsalarda ishlaydigan yuqori darajadagi matematik funktsiyalarning ulkan kutubxonasini taqdim etadi.</em>"
   ]
  },
  {
   "cell_type": "markdown",
   "id": "b0ed487c",
   "metadata": {},
   "source": [
    "<hr>\n",
    "<hr style=\"height:3px;border-width:0;\">"
   ]
  },
  {
   "cell_type": "markdown",
   "id": "18ca7432",
   "metadata": {},
   "source": [
    "### What’s the difference between a Python list and a NumPy array?"
   ]
  },
  {
   "cell_type": "markdown",
   "id": "a1be8145",
   "metadata": {},
   "source": [
    "NumPy gives you an enormous range of fast and efficient ways of creating arrays and manipulating numerical data inside them. While a Python list can contain different data types within a single list, all of the elements in a NumPy array should be homogeneous. The mathematical operations that are meant to be performed on arrays would be extremely inefficient if the arrays weren’t homogeneous.\n",
    "\n",
    "Why use NumPy?\n",
    "\n",
    "NumPy arrays are faster and more compact than Python lists. An array consumes less memory and is convenient to use. NumPy uses much less memory to store data and it provides a mechanism of specifying the data types. This allows the code to be optimized even further."
   ]
  },
  {
   "cell_type": "markdown",
   "id": "b1cf9c72",
   "metadata": {},
   "source": [
    "<h3>Uz:<em>  Python ro'yxati va NumPy massivi o'rtasidagi farq nima?</em></h3>\n",
    "<em>NumPy sizga massivlarni yaratish va ulardagi raqamli ma'lumotlarni manipulyatsiya qilishning juda ko'p tez va samarali usullarini taqdim etadi. Python ro'yxati bitta ro'yxatda turli xil ma'lumotlar turlarini o'z ichiga olishi mumkin bo'lsa-da, NumPy massividagi barcha elementlar bir hil bo'lishi kerak. Agar massivlar bir hil bo'lmasa, massivlarda bajarilishi kerak bo'lgan matematik operatsiyalar juda samarasiz bo'lar edi.</em>\n",
    "<h4><em>Nima uchun NumPy dan foydalanish kerak?</em></h4>\n",
    "<em>NumPy massivlari Python ro'yxatlariga qaraganda tezroq va ixchamroq. Massiv kamroq xotira sarflaydi va ulardan foydalanish qulay. NumPy ma'lumotlarni saqlash uchun kamroq xotiradan foydalanadi va u ma'lumotlar turlarini belgilash mexanizmini ta'minlaydi. Bu kodni yanada optimallashtirish imkonini beradi.</em>>"
   ]
  },
  {
   "cell_type": "markdown",
   "id": "2dd87e94",
   "metadata": {},
   "source": [
    "<hr style=\"height:3.5px;border-width:0;\">"
   ]
  },
  {
   "cell_type": "markdown",
   "id": "3da8e8d3",
   "metadata": {},
   "source": [
    "<h3>What is an array?</h3>"
   ]
  },
  {
   "cell_type": "markdown",
   "id": "1062163b",
   "metadata": {},
   "source": [
    "An array is a central data structure of the NumPy library. \n",
    "An array is a grid of values and it contains information about the raw data, how to locate an element, and how to interpret an element. It has a grid of elements that can be indexed in various ways. The elements are all of the same type, referred to as the array.\n",
    "An array can be indexed by a tuple of nonnegative integers, by booleans, by another array, or by integers. The rank of the array is the number of dimensions. The shape of the array is a tuple of integers giving the size of the array along each dimension.\n",
    "One way we can initialize NumPy arrays is from Python lists, using nested lists for two- or higher-dimensional data."
   ]
  },
  {
   "cell_type": "markdown",
   "id": "3b637b69",
   "metadata": {},
   "source": [
    "<h3>Uz: Array (massiv) nima?</h3>\n",
    "<em>Massiv NumPy kutubxonasining markaziy ma’lumotlar strukturasidir.\n",
    "Massiv qiymatlar to'plami bo'lib, unda xom ma'lumotlar, elementni qanday topish va elementni qanday izohlash haqida ma'lumotlar mavjud. Unda turli yo'llar bilan indekslanishi mumkin bo'lgan elementlar to'plami mavjud. Elementlarning barchasi bir xil turdagi, massiv dtype deb ataladi.\n",
    "Massiv manfiy bo'lmagan butun sonlar majmuasi, mantiqiy, boshqa massiv yoki butun sonlar bilan indekslanishi mumkin. Massivning darajasi - o'lchamlar soni. Massivning shakli har bir o'lcham bo'yicha massivning o'lchamini beruvchi butun sonlar majmuasidir.\n",
    "NumPy massivlarini ishga tushirish usullaridan biri Python roʻyxatlaridan ikki yoki undan yuqori oʻlchamli maʼlumotlar uchun ichki roʻyxatlardan foydalanishdir.</em>."
   ]
  },
  {
   "cell_type": "markdown",
   "id": "28f52496",
   "metadata": {},
   "source": [
    "<hr style=\"height:2.5px;border-width:0;\">"
   ]
  },
  {
   "cell_type": "markdown",
   "id": "eba6ad12",
   "metadata": {},
   "source": [
    "* First we import <b>`numpy`</b>.  Most people `import` it <b>`as np`</b>. \n",
    "\n",
    "* Birinchi biz <b>`numpy`</b>ni import qilamiz. Ko'pchillik <b>`import numpy as np`</b> ko'rinishida yozishadi."
   ]
  },
  {
   "cell_type": "markdown",
   "id": "1308a763",
   "metadata": {},
   "source": [
    "<hr style=\"height:2.5px;border-width:0;\">"
   ]
  },
  {
   "cell_type": "code",
   "execution_count": 9,
   "id": "e7aad5f4",
   "metadata": {},
   "outputs": [],
   "source": [
    "import numpy as np"
   ]
  },
  {
   "cell_type": "markdown",
   "id": "fbb0166e",
   "metadata": {},
   "source": [
    "## Creating arrays (Massivlar yaratish)\n"
   ]
  },
  {
   "cell_type": "markdown",
   "id": "ef30cb3a",
   "metadata": {},
   "source": [
    "<img src=\"Images/numpy_arrays.png\" align=\"center\" width=\"400\"/>"
   ]
  },
  {
   "cell_type": "markdown",
   "id": "abf7b691",
   "metadata": {},
   "source": [
    "# `np.zeros`"
   ]
  },
  {
   "cell_type": "markdown",
   "id": "bd78ec20",
   "metadata": {},
   "source": [
    "### `Python NumPy zeros() Function`                      (Python Numpy nollar() Funksiyasi)"
   ]
  },
  {
   "cell_type": "markdown",
   "id": "558679be",
   "metadata": {},
   "source": [
    "### `En` \n",
    "NumPy zeros() function is used to create a new array of given shapes and types filled with zero values. The zeros() function takes three arguments and returns the array filled with zeros of floating values by default. We can customize the specific datatype and order by passing these parameters."
   ]
  },
  {
   "cell_type": "markdown",
   "id": "300c025b",
   "metadata": {},
   "source": [
    "### `Uz` \n",
    "NumPy zeros() funksiyasi nol qiymatlar bilan to'ldirilgan berilgan shakllar va turlarning yangi massivini yaratish uchun ishlatiladi. Zeros() funktsiyasi uchta argumentni oladi va sukut bo'yicha suzuvchi qiymatlarning nollari bilan to'ldirilgan massivni qaytaradi. Ushbu parametrlarni o'tkazish orqali biz ma'lum ma'lumotlar turini va tartibini sozlashimiz mumkin."
   ]
  },
  {
   "cell_type": "code",
   "execution_count": 10,
   "id": "43ffd907",
   "metadata": {},
   "outputs": [
    {
     "name": "stdout",
     "output_type": "stream",
     "text": [
      "[1 2 3 4]\n"
     ]
    }
   ],
   "source": [
    "a = np.array([[1, 2, 3, 4], [5, 6, 7, 8], [9, 10, 11, 12]])\n",
    "print(a[0])"
   ]
  },
  {
   "cell_type": "markdown",
   "id": "7ebe70f8",
   "metadata": {},
   "source": [
    "<hr style=\"height:2.5px;border-width:0;\">"
   ]
  },
  {
   "cell_type": "markdown",
   "id": "194b28d6",
   "metadata": {},
   "source": [
    "### `En` \n",
    "## Some vocabulary\n",
    "\n",
    "* In NumPy, each dimension is called an **axis**.\n",
    "* The number of axes is called the **rank**.\n",
    "    * For example, the above 3x4 matrix is an array of rank 2 (it is 2-dimensional).\n",
    "    * The first axis has length 3, the second has length 4.\n",
    "* An array's list of axis lengths is called the **shape** of the array.\n",
    "    * For example, the above matrix's shape is `(3, 4)`.\n",
    "    * The rank is equal to the shape's length.\n",
    "* The **size** of an array is the total number of elements, which is the product of all axis lengths (eg. 3*4=12)\n",
    "### `Uz` \n",
    "## Ba'zi lug'at\n",
    "\n",
    "* NumPy-da har bir o'lcham **o'q** deb ataladi.\n",
    "* O'qlar soni **darajali** deb ataladi.\n",
    "     * Masalan, yuqoridagi 3x4 matritsa 2-darajali massivdir (u 2 o'lchovli).\n",
    "     * Birinchi o'qning uzunligi 3, ikkinchisining uzunligi 4.\n",
    "* Massivning oʻq uzunliklari roʻyxati massivning **shakli** deb ataladi.\n",
    "     * Masalan, yuqoridagi matritsaning shakli `(3, 4)`.\n",
    "     * Darajasi shakl uzunligiga teng.\n",
    "* Massivning **oʻlchami** barcha oʻq uzunliklarining koʻpaytmasi boʻlgan elementlarning umumiy sonidir (masalan, 3*4=12)"
   ]
  },
  {
   "cell_type": "markdown",
   "id": "6515fa2d",
   "metadata": {},
   "source": [
    "<hr style=\"height:2.5px;border-width:0;\">"
   ]
  },
  {
   "cell_type": "code",
   "execution_count": 11,
   "id": "c9b64abd",
   "metadata": {},
   "outputs": [
    {
     "data": {
      "text/plain": [
       "array([0., 0., 0., 0., 0., 0.])"
      ]
     },
     "execution_count": 11,
     "metadata": {},
     "output_type": "execute_result"
    }
   ],
   "source": [
    "np.zeros(6)"
   ]
  },
  {
   "cell_type": "code",
   "execution_count": null,
   "id": "6173f814",
   "metadata": {},
   "outputs": [],
   "source": [
    "<img src=\"np.zeros.png\" align=\"center\" width=\"300\" />"
   ]
  },
  {
   "cell_type": "code",
   "execution_count": 12,
   "id": "40e3d94e",
   "metadata": {},
   "outputs": [],
   "source": [
    "a=np.zeros((1,6))"
   ]
  },
  {
   "cell_type": "code",
   "execution_count": 13,
   "id": "1478c053",
   "metadata": {},
   "outputs": [
    {
     "data": {
      "text/plain": [
       "array([[0., 0., 0.],\n",
       "       [0., 0., 0.],\n",
       "       [0., 0., 0.]])"
      ]
     },
     "execution_count": 13,
     "metadata": {},
     "output_type": "execute_result"
    }
   ],
   "source": [
    "np.zeros((3,3))"
   ]
  },
  {
   "cell_type": "markdown",
   "id": "2b7d9774",
   "metadata": {},
   "source": [
    "<img src=\"Images/npzeros2.png\" align=\"center\" width=\"200\" />"
   ]
  },
  {
   "cell_type": "code",
   "execution_count": 14,
   "id": "5855cc6d",
   "metadata": {},
   "outputs": [
    {
     "data": {
      "text/plain": [
       "array([[0., 0.],\n",
       "       [0., 0.],\n",
       "       [0., 0.]])"
      ]
     },
     "execution_count": 14,
     "metadata": {},
     "output_type": "execute_result"
    }
   ],
   "source": [
    "np.zeros((3,2))"
   ]
  },
  {
   "cell_type": "markdown",
   "id": "c7d71cc6",
   "metadata": {},
   "source": [
    "<img src=\"Images/npzeros3.png\" align=\"center\" width=\"200\" />"
   ]
  },
  {
   "cell_type": "code",
   "execution_count": 15,
   "id": "c1bb17d9",
   "metadata": {},
   "outputs": [
    {
     "data": {
      "text/plain": [
       "array([[0.],\n",
       "       [0.],\n",
       "       [0.]])"
      ]
     },
     "execution_count": 15,
     "metadata": {},
     "output_type": "execute_result"
    }
   ],
   "source": [
    "np.zeros((3,1))"
   ]
  },
  {
   "cell_type": "markdown",
   "id": "75095ff8",
   "metadata": {},
   "source": [
    "<img src=\"Images/npzeros4.png\" align=\"center\" width=\"200\" />"
   ]
  },
  {
   "cell_type": "code",
   "execution_count": 16,
   "id": "21b772e2",
   "metadata": {},
   "outputs": [
    {
     "data": {
      "text/plain": [
       "array([[0., 0.],\n",
       "       [0., 0.],\n",
       "       [0., 0.]])"
      ]
     },
     "execution_count": 16,
     "metadata": {},
     "output_type": "execute_result"
    }
   ],
   "source": [
    "np.zeros((3,2))"
   ]
  },
  {
   "cell_type": "markdown",
   "id": "6b0eb1f2",
   "metadata": {},
   "source": [
    "<img src=\"Images/npzeros3.png\" align=\"center\" width=\"200\" />"
   ]
  },
  {
   "cell_type": "markdown",
   "id": "5c09278c",
   "metadata": {},
   "source": [
    "# `np.ones`"
   ]
  },
  {
   "cell_type": "code",
   "execution_count": 17,
   "id": "9cf5bc8c",
   "metadata": {},
   "outputs": [
    {
     "data": {
      "text/plain": [
       "array([1., 1., 1., 1., 1., 1., 1.])"
      ]
     },
     "execution_count": 17,
     "metadata": {},
     "output_type": "execute_result"
    }
   ],
   "source": [
    "np.ones(7)"
   ]
  },
  {
   "cell_type": "markdown",
   "id": "ccb5198c",
   "metadata": {},
   "source": [
    "<img src=\"Images/np.ones.png\" align=\"center\" width=\"500\" />"
   ]
  },
  {
   "cell_type": "code",
   "execution_count": 18,
   "id": "a5c0ec53",
   "metadata": {
    "scrolled": true
   },
   "outputs": [
    {
     "data": {
      "text/plain": [
       "array([[0., 0., 0., 0.],\n",
       "       [0., 0., 0., 0.],\n",
       "       [0., 0., 0., 0.],\n",
       "       [0., 0., 0., 0.],\n",
       "       [0., 0., 0., 0.]])"
      ]
     },
     "execution_count": 18,
     "metadata": {},
     "output_type": "execute_result"
    }
   ],
   "source": [
    "a = np.zeros((5,4))\n",
    "a"
   ]
  },
  {
   "cell_type": "code",
   "execution_count": 19,
   "id": "d88f0d30",
   "metadata": {},
   "outputs": [
    {
     "data": {
      "text/plain": [
       "(5, 4)"
      ]
     },
     "execution_count": 19,
     "metadata": {},
     "output_type": "execute_result"
    }
   ],
   "source": [
    "a.shape"
   ]
  },
  {
   "cell_type": "code",
   "execution_count": 20,
   "id": "26a9d7ad",
   "metadata": {},
   "outputs": [
    {
     "data": {
      "text/plain": [
       "dtype('float64')"
      ]
     },
     "execution_count": 20,
     "metadata": {},
     "output_type": "execute_result"
    }
   ],
   "source": [
    "a.dtype"
   ]
  },
  {
   "cell_type": "code",
   "execution_count": 21,
   "id": "78c50fe3",
   "metadata": {},
   "outputs": [
    {
     "data": {
      "text/plain": [
       "2"
      ]
     },
     "execution_count": 21,
     "metadata": {},
     "output_type": "execute_result"
    }
   ],
   "source": [
    "a.ndim     # equal to len(a.shape)"
   ]
  },
  {
   "cell_type": "code",
   "execution_count": 22,
   "id": "6959ec12",
   "metadata": {},
   "outputs": [
    {
     "data": {
      "text/plain": [
       "20"
      ]
     },
     "execution_count": 22,
     "metadata": {},
     "output_type": "execute_result"
    }
   ],
   "source": [
    "a.size"
   ]
  },
  {
   "cell_type": "markdown",
   "id": "da0a84ab",
   "metadata": {},
   "source": [
    "<img src=\"Images/shapendim.jpg\" align=\"center\" width=\"500\" />"
   ]
  },
  {
   "cell_type": "markdown",
   "id": "c76830a3",
   "metadata": {},
   "source": [
    "<hr style=\"height:2.5px;border-width:0;\">"
   ]
  },
  {
   "cell_type": "code",
   "execution_count": null,
   "id": "070c856f",
   "metadata": {},
   "outputs": [],
   "source": []
  },
  {
   "cell_type": "code",
   "execution_count": null,
   "id": "b81c0deb",
   "metadata": {},
   "outputs": [],
   "source": [
    " "
   ]
  }
 ],
 "metadata": {
  "kernelspec": {
   "display_name": "Python 3 (ipykernel)",
   "language": "python",
   "name": "python3"
  },
  "language_info": {
   "codemirror_mode": {
    "name": "ipython",
    "version": 3
   },
   "file_extension": ".py",
   "mimetype": "text/x-python",
   "name": "python",
   "nbconvert_exporter": "python",
   "pygments_lexer": "ipython3",
   "version": "3.10.9"
  }
 },
 "nbformat": 4,
 "nbformat_minor": 5
}
